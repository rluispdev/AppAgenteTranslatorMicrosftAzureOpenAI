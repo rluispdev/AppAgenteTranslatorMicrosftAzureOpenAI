{
 "cells": [
  {
   "cell_type": "code",
   "execution_count": 2,
   "id": "e0e241d3-68ca-426a-b86c-356a565493a9",
   "metadata": {},
   "outputs": [],
   "source": [
    "!pip install requests beautifulsoup4 openai langchain-openai -q"
   ]
  },
  {
   "cell_type": "code",
   "execution_count": 7,
   "id": "a36058cc-b269-4dc7-8bdd-9220034afbf0",
   "metadata": {},
   "outputs": [
    {
     "data": {
      "text/plain": [
       "'Microsoft\\nquer\\n‘redefinir’\\na\\ninternet\\ncom\\nnovos\\nAgentes\\nde\\nIA\\nque\\ntomam\\nações\\nsozinhos\\n|\\nSoftware\\nSoftware\\nMicrosoft\\nquer\\n‘redefinir’\\na\\ninternet\\ncom\\nnovos\\nAgentes\\nde\\nIA\\nque\\ntomam\\nações\\nsozinhos\\nA\\nMicrosoft\\nquer\\nfazer\\ncom\\nque\\nas\\nIAs\\nfaçam\\nas\\naplicações\\nda\\nempresa\\ntomar\\nações\\n“sozinhas”;\\nconfira!\\nPor\\nWellington\\nArruda\\n19/05/2025,\\nàs\\n13:00\\nA\\nMicrosoft\\nquer\\nconstruir\\numa\\nweb\\nmais\\naberta,\\ncolaborativa\\ne\\ncom\\napoio\\nda\\ninteligência\\nartificial\\n(IA)\\npara\\nque\\nas\\npróprias\\naplicações\\ntomem\\nações\\n“sozinhas”.\\nNesta\\nsegunda-feira\\n(19),\\nprimeiro\\ndia\\nda\\nconferência\\nMicrosoft\\nBuild\\n2025,\\na\\nempresa\\nrevelou\\nos\\npróximos\\npassos\\npara\\ntornar\\nisso\\numa\\nrealidade.\\nComo\\nreforçado\\npor\\nFrank\\nShaw,\\nDiretor\\nde\\nComunicação\\nda\\nMicrosoft,\\n“entramos\\nna\\nera\\ndos\\nagentes\\nde\\nIA”.\\nEsses\\nsão\\nsistemas\\nbaseados\\nem\\nIA\\nque\\npodem\\ntomar\\ndecisões\\ne\\nexecutar\\ntarefas\\nde\\nforma\\nautônoma\\n—\\ntanto\\npara\\nusuários\\nquanto\\npara\\nempresas\\ne\\norganizações.\\nOs\\nagentes\\ntendem\\na\\nraciocinar\\ne\\naprender,\\ntendo\\ncomo\\nbase\\no\\ncontexto\\nde\\naprendizado,\\na\\nmemória\\ne\\no\\ncontexto\\ndas\\ninformações.\\nSaiba\\nmais\\n:\\nMicrosoft\\nanuncia\\nmais\\nsoftwares\\nautônomos\\nde\\nIA\\npara\\nproteger\\ncomputadores\\nE\\na\\nmemória\\né\\num\\ndos\\nproblemas\\nque\\na\\nMicrosoft\\nvem\\ntentando\\nresolver\\ncom\\nessa\\nnova\\ninvestida.\\nA\\nproposta\\nde\\nusar\\nagentes\\nde\\nIA\\ndessa\\nforma\\né\\nde\\nse\\naproximar\\nda\\nmemória\\nbiológica:\\ncoletando\\ninformações,\\naprendendo\\nsobre\\nalgo,\\nrefinando\\nesse\\naprendizado\\ne\\nreproduzindo\\nações.\\nA\\ndiferença,\\nno\\nentanto,\\né\\nque\\na\\nempresa\\nfoca\\nem\\nreduzir\\nas\\nimprecisões\\nna\\nhora\\nde\\num\\nagente\\n“se\\nlembrar”\\nde\\nalgo,\\ncomo\\numa\\ninteração\\npassada,\\nmas\\ntambém\\na\\nfragmentação\\ndos\\ndados\\nacessados\\npor\\num\\nagente.\\nComo,\\npor\\nexemplo,\\nao\\nfornecer\\ndados\\nde\\num\\nsetor\\nda\\nempresa\\na\\num\\nagente\\npara\\nque\\nele\\nseja\\nrefinado,\\nmas\\nnão\\na\\ntodos\\nos\\noutros\\nagentes.\\nEsses\\nagentes\\npodem\\nfazer\\ncoisas\\nmais\\nsimples,\\ncomo\\nresponder\\na\\numa\\nmensagem\\nou\\ne-mail,\\nmas\\ntambém\\npodem\\nexecutar\\ntarefas\\ncomplexas\\nque\\nprecisam\\nde\\nmais\\netapas.\\nA\\nMicrosoft\\nacredita\\nque\\nesse\\npossa\\nser\\no\\nfuturo\\nda\\nweb\\ne\\nque\\ntais\\nagentes\\npodem\\nir\\nalém\\ndos\\ntradicionais\\nchatbots.\\nA\\nvisão\\nda\\nempresa\\né\\nde\\nque\\ntais\\nsistemas\\n“operem\\nem\\ncontextos\\nindividuais,\\norganizacionais,\\nde\\nequipe\\ne\\nde\\nnegócios\\nde\\nponta\\na\\nponta”,\\nsegundo\\nShaw.\\nIsso,\\né\\nclaro,\\ntendo\\nem\\nvista\\nque\\nos\\nagentes\\npoderão\\nrealizar\\nações\\nsem\\na\\nintervenção\\ndireta\\nde\\num\\nhumano.\\nProtocolo\\nMCP\\nUma\\ndas\\ninvestidas\\né\\nno\\nProtocolo\\nMCP\\n(Model\\nContext\\nProtocol)\\nno\\nWindows;\\nele\\ntambém\\nestá\\ndisponível\\nno\\nGitHub,\\nAzure,\\nDynamics\\ne\\nCopilot\\nStudio,\\npor\\nexemplo.\\nO\\nprotocolo,\\nque\\né\\nleve\\ne\\nde\\ncódigo\\naberto,\\n“permite\\nque\\nagentes\\n[de\\nIA]\\ne\\naplicativos\\ndescubram\\ne\\nacionem\\nferramentas\\nde\\nforma\\npadronizada”.\\nOu,\\nem\\nresumo,\\nfaz\\ncom\\nque\\nos\\nagentes\\npossam\\nrealizar\\ntarefas\\nentre\\nserviços\\nlocais\\ne\\nremotos,\\nsem\\na\\nnecessidade\\nde\\ndesenvolver\\npara\\nesses\\ndiferentes\\nambientes.\\nO\\nMCP\\nse\\n“divide”\\nentre\\nos\\nHosts\\n(como\\no\\nVS\\nCode),\\nClients\\n(que\\ndão\\ninício\\nàs\\nrequisições\\naos\\nservidores\\nMCP)\\ne\\nos\\npróprios\\nServidores,\\nque\\ndão\\nacesso\\nao\\nsistema\\nde\\narquivos,\\nbusca\\nsemântica\\ne\\npermitem\\nrealizar\\nações\\nnos\\napps.\\nLeia\\nmais\\n:\\nMicrosoft\\nanuncia\\ncurso\\ngratuito\\nde\\nGitHub\\nCopilot\\npara\\ndevs\\ne\\nestudantes\\nO\\nWindows\\n11\\nterá\\nsuporte\\npara\\nque\\nos\\ndesenvolvedores\\ncriem\\nseus\\napps\\ncom\\nIA\\ngenerativa\\n,\\ntendo\\nem\\nvista\\nque\\nos\\nagentes\\npoderão\\ntomar\\n“ações\\nem\\nnome\\ndo\\nusuário\\natravés\\ndo\\nMCP,\\nquando\\napropriado”.\\nA\\nempresa\\nvai\\ndisponibilizar\\numa\\nprévia\\nnos\\npróximos\\nmeses\\npara\\ncoletar\\no\\nfeedback\\nda\\ncomunidade.\\nRiscos\\nda\\nIA\\n“fazer\\ntudo\\nsozinha”\\nUm\\nagente\\nde\\nIA\\nque\\ntoma\\nações\\npor\\nusuários\\ne\\nempresas\\npode\\nser\\num\\ngrande\\nfacilitador,\\nmas\\ntambém\\npreocupante\\ndo\\nponto\\nde\\nvista\\nda\\ncibersegurança.\\nOs\\nriscos\\nincluem\\na\\npossível\\nexposição\\nde\\nfuncionalidades\\nsensíveis,\\nservidores\\nexpostos\\nou\\nmal\\nconfigurados\\npara\\nacesso\\nremoto\\ne\\noutros,\\ncomo\\nataques\\nde\\ninjeção\\ncruzada\\nde\\nprompt\\n(XPIA),\\nfalta\\nde\\nautenticação,\\nvazamento\\nde\\ncredenciais\\ne\\nafins.\\nApesar\\nda\\nautonomia\\nde\\num\\nsistema\\ndo\\ntipo,\\na\\nMicrosoft\\nressalta\\nos\\nprincípios\\nde\\nsegurança\\ndo\\nMCP\\nno\\nWindows\\n11:\\n1.\\nRequisitos\\nmínimos\\nde\\nsegurança\\npara\\nservidores:\\nincluindo\\nidentidade\\núnica\\ne\\nassinatura\\nde\\ncódigo\\n—\\nque\\npode\\nser\\nrevogado;\\n2.\\nControle:\\nações\\nsensíveis\\nfeitas\\npor\\nagentes\\n“devem\\nser\\ntransparentes\\ne\\nauditáveis”,\\nassim\\ncomo\\nqualquer\\nalteração\\nno\\nsistema,\\nacesso\\na\\ndados\\nou\\ncredenciais\\ndevem\\nser\\ninformadas;\\n3.\\nPrivilégio\\nmínimo:\\nem\\ncaso\\nde\\nataque\\na\\num\\nservidor\\nMCP,\\no\\nsistema\\ndeve\\nconter\\nqualquer\\npossível\\nimpacto.\\nA\\nempresa\\nreforça\\nque\\nhabilitar\\nservidores\\nMCP\\nde\\ntal\\nforma\\nrequer\\ncontroles\\nrígidos.\\nAssim,\\ntodas\\nas\\nalterações\\nfeitas\\npassam\\npor\\num\\nproxy\\nconfiável,\\npela\\naprovação\\ndo\\nusuário,\\ncontam\\ncom\\nisolamento\\nde\\nexecução\\ne\\ncriam\\numa\\nlista\\nde\\ncritérios\\nde\\nsegurança\\nmínimos.\\nEntre\\neles\\nestão:\\nA\\nassinatura\\nde\\ncódigo\\né\\nobrigatória;\\nDefinições\\nde\\nferramentas\\nimutáveis\\nem\\ntempo\\nde\\nexecução;\\nTestes\\nde\\nsegurança\\nnas\\ninterfaces;\\nIdentidade\\nde\\npacote\\nobrigatória;\\nDeclaração\\nclara\\ndos\\nprivilégios\\nexigidos.\\n*\\nO\\njornalista\\nviajou\\npara\\ncobrir\\na\\nMicrosoft\\nBuild\\n2025\\nem\\nSeattle,\\nnos\\nEUA,\\na\\nconvite\\nda\\nMicrosoft.\\nPor\\nWellington\\nArruda\\nTags\\nInteligência\\nartificial\\nMicrosoft\\nMais\\nlidas\\niOS\\n18.5\\né\\nlançado\\npara\\ntodos\\nnesta\\nterça\\n(13);\\nconfira\\no\\nque\\nhá\\nde\\nnovo\\nOne\\nUI\\n7\\nchega\\npara\\nS22,\\nS23\\nFE\\ne\\nmais\\ncelulares\\nno\\nBrasil;\\nsaiba\\ncomo\\nbaixar\\nMulher\\nusa\\nIA\\npara\\n‘recriar’\\nirmão\\nassassinado\\ne\\nemociona\\ntribunal\\nnos\\nEUA\\nRecurse:\\nconheça\\na\\nprimeira\\nmúsica\\nfeita\\ncom\\nIA\\ngenerativa\\ne\\ncomputação\\nquântica\\nGoogle\\nmuda\\nvisual\\ndo\\nwidget\\npara\\ntela\\ninicial\\nno\\nAndroid;\\nveja\\ncomo\\nficou\\nMais\\nnotícias\\npopulares\\nShorts\\nVoxel\\nTWITCH\\nQUER\\nVIRAR\\nTIKTOK...\\nSerá\\nmesmo?\\n#games\\n#jogos\\n#twitch\\nTecMundo\\nAntropólogo\\nanalisa\\nmulher\\nda\\nGeração\\nX:\\nTrabalhar\\nMuito\\nEra\\nStatus\\ne\\nIdentidade\\nTecMundo\\n🚨\\nFalsas\\npáginas\\n(quase)\\nPERFEITAS\\ndo\\nMERCADO\\nLIVRE.\\nCuidado!\\nTecMundo\\n\"Coloquei\\num\\nmorteiro\\nno\\nóleo\\nquente…\"\\n💥🔥\\nTecMundo\\nSegredos\\nTECNOLÓGICOS\\nde\\num\\nquarto\\nde\\nmotel\\n😏\\nTecMundo\\nLetraJota\\nexplica\\ncomo\\nter\\nenergia\\nsolar\\nMESMO\\nSEM\\nLUZ!\\nTecMundo\\n👉\\nGeração\\nX:\\ntrabalhar\\nsó\\nesperando\\na\\naposentadoria?\\nVoxel\\nesse\\nGAROTO\\nGANHOU\\num\\nJOGO\\nde\\nANIVERSÁRIO!\\n#videogames\\n#gamedev\\nTecMundo\\n\"Gastei\\nR$\\u202f5\\u202fMIL\"\\n-\\nEsse\\ncara\\nfez\\num\\nelevador\\npra\\nVÓ!\\n🛗👵🏻\\nVoxel\\nDá\\npra\\nmontar\\num\\nBAITA\\nPC\\ncom\\no\\nvalor\\ndo\\nSwitch\\n2\\nTecMundo\\n“Invadimos\\no\\nevento\\nda\\nCoca-Cola\\ncom\\no\\ncarro\\ndo\\nDolly!”\\nVoxel\\nAlugou\\num\\nTRIPLEX!\\nEsse\\ngame\\nvai\\nmexer\\ncom\\nseu\\nPSICOLÓGICO\\nNão\\npague\\nmais\\nmico\\nno\\ncafézinho\\nda\\nfirma.\\nTecnologia\\ne\\nNegócios\\né\\ncom\\nThe\\nBRIEF,\\na\\nnewsletter\\ndo\\nTecMundo\\nInscreva-se\\nagora!\\nContinue\\npor\\naqui\\nCiência\\nSegurança\\nMercado\\nProduto\\nInternet\\nSoftware\\nNo\\nTecMundo\\nvocê\\nfica\\npor\\ndentro\\ndos\\nprincipais\\nacontecimentos\\nda\\ntecnologia.\\nCelulares,\\nanálises,\\ngames,\\nciência,\\nséries\\ne\\nmais,\\nvocê\\ndescobre\\naqui!\\nCategorias\\nÚltimas\\nNotícias\\nSoftware\\nInternet\\nRedes\\nSociais\\nCiência\\nMais\\nLidas\\nProduto\\nMercado\\nCelular\\nExclusivos\\nVídeos\\nWebStories\\nGuia\\nde\\nCompras\\nRealidade\\nViolada\\nThe\\nBRIEFCast\\nSiga\\no\\nTecMundo\\nInstagram\\nYouTube\\nTikTok\\nSpotify\\nFacebook\\nLinkedIn\\nNossa\\nrede\\nTecMundo\\nVoxel\\nThe\\nBRIEF\\nBaixaki\\nMinha\\nSérie\\nMega\\nCurioso\\nClick\\nJogos\\nCupons\\nCupom\\nKabum\\nCupom\\nAmazon\\nCupom\\nCasas\\nBahia\\nCupom\\nSamsung\\nCupom\\nMercado\\nLivre\\nInstitucional\\nSobre\\nContato\\nTrabalhe\\nConosco\\nPolítica\\nde\\nPrivacidade\\n©\\nCOPYRIGHT\\n2025\\n-\\nNO\\nZEBRA\\nNETWORK\\nS.A.\\nTODOS\\nOS\\nDIREITOS\\nRESERVADOS.\\nOpções\\nde\\nprivacidade\\nÚltimas\\nNotícias\\nMais\\nlidas\\nReviews\\nSoftware\\nSoftware\\nTodas\\nsobre\\nSoftware\\nInteligência\\nArtificial\\nApps\\nAndroid\\nWindows\\nIOS\\nProduto\\nInternet\\nInternet\\nTodas\\nsobre\\nInternet\\nTecnologia\\nGoogle\\nYoutube\\nEntretenimento\\nBuscador\\nMercado\\nMercado\\nTodas\\nsobre\\nMercado\\nCarreira\\nVagas\\nComércio\\nEletrônico\\nEconomia\\nFinanças\\nRedes\\nsociais\\nRedes\\nsociais\\nTodas\\nsobre\\nRedes\\nsociais\\nInstagram\\nTiktok\\nTwitter\\nFacebook\\nWhatsapp\\nCelular\\nCelular\\nTodas\\nsobre\\nCelular\\nSamsung\\nApple\\nIphone\\nXiaomi\\nMotorola\\nCiência\\nCiência\\nTodas\\nsobre\\nCiência\\nAstronomia\\nFísica\\nQuimica\\nEnergia\\nSustentabilidade\\nACESSE\\nTAMBÉM\\nVoxel\\nMinha\\nSérie\\nThe\\nBRIEF\\nPodcasts\\nOfertas'"
      ]
     },
     "execution_count": 7,
     "metadata": {},
     "output_type": "execute_result"
    }
   ],
   "source": [
    "import requests\n",
    "from bs4 import BeautifulSoup\n",
    "\n",
    "def extract_text_from_url(url):\n",
    "    response = requests.get(url)\n",
    " \n",
    "    if response.status_code == 200:\n",
    "        soup = BeautifulSoup(response.text, 'html.parser')\n",
    "        for script_or_style in soup(['script', 'style']):\n",
    "          script_or_style.decompose()\n",
    "        text = soup.get_text(separator= ' ')\n",
    "        #Limpar texto\n",
    "        lines = (line.strip() for line in text.splitlines())\n",
    "        parts = (pharse.strip() for line in lines for pharse in line.split(\" \"))\n",
    "        clean_text = '\\n'.join(part for part in parts if part)\n",
    "        return clean_text\n",
    "    else:\n",
    "        print(f\"Failed to fech the URL. Status code: {response.status_code}\")\n",
    "        return None\n",
    "\n",
    "    text = soup.get_text()\n",
    "    return text\n",
    "\n",
    "extract_text_from_url('https://www.tecmundo.com.br/software/404589-microsoft-quer-redefinir-a-internet-com-novos-agentes-de-ia-que-tomam-acoes-sozinhos.htm')"
   ]
  },
  {
   "cell_type": "code",
   "execution_count": null,
   "id": "4ebb902a-2550-4273-a48d-d80b7ff2a465",
   "metadata": {},
   "outputs": [],
   "source": []
  }
 ],
 "metadata": {
  "kernelspec": {
   "display_name": "Python 3 (ipykernel)",
   "language": "python",
   "name": "python3"
  },
  "language_info": {
   "codemirror_mode": {
    "name": "ipython",
    "version": 3
   },
   "file_extension": ".py",
   "mimetype": "text/x-python",
   "name": "python",
   "nbconvert_exporter": "python",
   "pygments_lexer": "ipython3",
   "version": "3.12.2"
  }
 },
 "nbformat": 4,
 "nbformat_minor": 5
}
